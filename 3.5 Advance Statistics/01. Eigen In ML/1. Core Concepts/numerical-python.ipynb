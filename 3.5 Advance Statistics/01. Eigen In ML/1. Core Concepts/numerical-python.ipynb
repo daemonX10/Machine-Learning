{
 "cells": [
  {
   "cell_type": "code",
   "execution_count": 1,
   "id": "966a302d",
   "metadata": {},
   "outputs": [
    {
     "data": {
      "text/plain": [
       "3"
      ]
     },
     "execution_count": 1,
     "metadata": {},
     "output_type": "execute_result"
    }
   ],
   "source": [
    "1 + 2"
   ]
  },
  {
   "cell_type": "code",
   "execution_count": 2,
   "id": "e1086ac3",
   "metadata": {},
   "outputs": [
    {
     "data": {
      "text/plain": [
       "2.0"
      ]
     },
     "execution_count": 2,
     "metadata": {},
     "output_type": "execute_result"
    }
   ],
   "source": [
    "3*4/(2**2 + 4/2)"
   ]
  },
  {
   "cell_type": "code",
   "execution_count": 3,
   "id": "6f4159bc",
   "metadata": {},
   "outputs": [
    {
     "data": {
      "text/plain": [
       "4.0"
      ]
     },
     "execution_count": 3,
     "metadata": {},
     "output_type": "execute_result"
    }
   ],
   "source": [
    "_ *2"
   ]
  },
  {
   "cell_type": "code",
   "execution_count": 4,
   "id": "933f30cf",
   "metadata": {},
   "outputs": [
    {
     "data": {
      "text/plain": [
       "64.0"
      ]
     },
     "execution_count": 4,
     "metadata": {},
     "output_type": "execute_result"
    }
   ],
   "source": [
    "_ **3"
   ]
  },
  {
   "cell_type": "code",
   "execution_count": 5,
   "id": "19271fff",
   "metadata": {},
   "outputs": [
    {
     "data": {
      "text/plain": [
       "64.0"
      ]
     },
     "execution_count": 5,
     "metadata": {},
     "output_type": "execute_result"
    }
   ],
   "source": [
    "_"
   ]
  },
  {
   "cell_type": "code",
   "execution_count": 6,
   "id": "529cb45f",
   "metadata": {},
   "outputs": [],
   "source": [
    "import math "
   ]
  },
  {
   "cell_type": "code",
   "execution_count": 7,
   "id": "83d54b83",
   "metadata": {},
   "outputs": [
    {
     "data": {
      "text/plain": [
       "2.0"
      ]
     },
     "execution_count": 7,
     "metadata": {},
     "output_type": "execute_result"
    }
   ],
   "source": [
    "math.sqrt(4)"
   ]
  },
  {
   "cell_type": "code",
   "execution_count": 8,
   "id": "767c6e8b",
   "metadata": {},
   "outputs": [
    {
     "data": {
      "text/plain": [
       "1.0"
      ]
     },
     "execution_count": 8,
     "metadata": {},
     "output_type": "execute_result"
    }
   ],
   "source": [
    "math.sin(math.pi/2)"
   ]
  },
  {
   "cell_type": "code",
   "execution_count": 9,
   "id": "44d8ec3a",
   "metadata": {},
   "outputs": [
    {
     "data": {
      "text/plain": [
       "3.141592653589793"
      ]
     },
     "execution_count": 9,
     "metadata": {},
     "output_type": "execute_result"
    }
   ],
   "source": [
    "math.pi"
   ]
  },
  {
   "cell_type": "code",
   "execution_count": 11,
   "id": "6ef5d577",
   "metadata": {},
   "outputs": [
    {
     "data": {
      "text/plain": [
       "10.000000000000002"
      ]
     },
     "execution_count": 11,
     "metadata": {},
     "output_type": "execute_result"
    }
   ],
   "source": [
    "math.exp(math.log(10))"
   ]
  },
  {
   "cell_type": "code",
   "execution_count": 12,
   "id": "c906d404",
   "metadata": {},
   "outputs": [
    {
     "data": {
      "text/plain": [
       "2.117000016612675"
      ]
     },
     "execution_count": 12,
     "metadata": {},
     "output_type": "execute_result"
    }
   ],
   "source": [
    "math.exp(3/4)"
   ]
  },
  {
   "cell_type": "code",
   "execution_count": 13,
   "id": "baef7218",
   "metadata": {},
   "outputs": [
    {
     "name": "stdout",
     "output_type": "stream",
     "text": [
      "\u001b[1;31mSignature:\u001b[0m \u001b[0mmath\u001b[0m\u001b[1;33m.\u001b[0m\u001b[0mfactorial\u001b[0m\u001b[1;33m(\u001b[0m\u001b[0mn\u001b[0m\u001b[1;33m,\u001b[0m \u001b[1;33m/\u001b[0m\u001b[1;33m)\u001b[0m\u001b[1;33m\u001b[0m\u001b[1;33m\u001b[0m\u001b[0m\n",
      "\u001b[1;31mDocstring:\u001b[0m\n",
      "Find n!.\n",
      "\n",
      "Raise a ValueError if x is negative or non-integral.\n",
      "\u001b[1;31mType:\u001b[0m      builtin_function_or_method"
     ]
    }
   ],
   "source": [
    "math.factorial?"
   ]
  },
  {
   "cell_type": "code",
   "execution_count": 15,
   "id": "9cc83ea7",
   "metadata": {},
   "outputs": [
    {
     "data": {
      "text/plain": [
       "24"
      ]
     },
     "execution_count": 15,
     "metadata": {},
     "output_type": "execute_result"
    }
   ],
   "source": [
    "math.factorial(4)"
   ]
  },
  {
   "cell_type": "code",
   "execution_count": 17,
   "id": "05e08f2d",
   "metadata": {},
   "outputs": [
    {
     "data": {
      "text/plain": [
       "0.0"
      ]
     },
     "execution_count": 17,
     "metadata": {},
     "output_type": "execute_result"
    }
   ],
   "source": [
    "1/math.inf"
   ]
  },
  {
   "cell_type": "code",
   "execution_count": 18,
   "id": "d680d8c0",
   "metadata": {},
   "outputs": [
    {
     "data": {
      "text/plain": [
       "nan"
      ]
     },
     "execution_count": 18,
     "metadata": {},
     "output_type": "execute_result"
    }
   ],
   "source": [
    "math.inf/math.inf"
   ]
  },
  {
   "cell_type": "code",
   "execution_count": 21,
   "id": "92189efa",
   "metadata": {},
   "outputs": [
    {
     "data": {
      "text/plain": [
       "(2+5j)"
      ]
     },
     "execution_count": 21,
     "metadata": {},
     "output_type": "execute_result"
    }
   ],
   "source": [
    "2 + 5j"
   ]
  },
  {
   "cell_type": "code",
   "execution_count": 22,
   "id": "9c429361",
   "metadata": {},
   "outputs": [
    {
     "data": {
      "text/plain": [
       "(2+5j)"
      ]
     },
     "execution_count": 22,
     "metadata": {},
     "output_type": "execute_result"
    }
   ],
   "source": [
    "complex(2,5)"
   ]
  },
  {
   "cell_type": "code",
   "execution_count": 23,
   "id": "4e083458",
   "metadata": {},
   "outputs": [
    {
     "data": {
      "text/plain": [
       "1000000.0"
      ]
     },
     "execution_count": 23,
     "metadata": {},
     "output_type": "execute_result"
    }
   ],
   "source": [
    "1e6"
   ]
  },
  {
   "cell_type": "code",
   "execution_count": 24,
   "id": "c646ce41",
   "metadata": {},
   "outputs": [
    {
     "data": {
      "text/plain": [
       "0.001"
      ]
     },
     "execution_count": 24,
     "metadata": {},
     "output_type": "execute_result"
    }
   ],
   "source": [
    "1e-3"
   ]
  },
  {
   "cell_type": "code",
   "execution_count": 25,
   "id": "74835165",
   "metadata": {},
   "outputs": [
    {
     "data": {
      "text/plain": [
       "93312000"
      ]
     },
     "execution_count": 25,
     "metadata": {},
     "output_type": "execute_result"
    }
   ],
   "source": [
    "3*12*30*24*60*60"
   ]
  },
  {
   "cell_type": "code",
   "execution_count": 26,
   "id": "b7194f2a",
   "metadata": {},
   "outputs": [
    {
     "data": {
      "text/plain": [
       "94608000.0"
      ]
     },
     "execution_count": 26,
     "metadata": {},
     "output_type": "execute_result"
    }
   ],
   "source": [
    "3e0 * 3.65e2 * 2.4e1 * 3.6e3"
   ]
  },
  {
   "cell_type": "markdown",
   "id": "b335644d",
   "metadata": {},
   "source": [
    "# logical operation"
   ]
  },
  {
   "cell_type": "markdown",
   "id": "b01e7c0c",
   "metadata": {},
   "source": [
    "| Operator | Description              | Example  | Result |\n",
    "|----------|-------------------------|----------|--------|\n",
    "| >        | greater than            | a > b    | True   |\n",
    "| >=       | greater than or equal   | a >= b   | True   |\n",
    "| <        | less than               | a < b    | False  |\n",
    "| <=       | less than or equal      | a <= b   | False  |\n",
    "| !=       | not equal               | a != b   | True   |\n",
    "| ==       | equal                   | a == b   | False  |\n"
   ]
  },
  {
   "attachments": {
    "image.png": {
     "image/png": "[encoded data removed]"
    }
   },
   "cell_type": "markdown",
   "id": "19e7297e",
   "metadata": {},
   "source": [
    "![image.png](attachment:image.png)\n"
   ]
  },
  {
   "cell_type": "code",
   "execution_count": 1,
   "id": "638ed9e3",
   "metadata": {},
   "outputs": [
    {
     "data": {
      "text/plain": [
       "1"
      ]
     },
     "execution_count": 1,
     "metadata": {},
     "output_type": "execute_result"
    }
   ],
   "source": [
    "(1 and not 1) or (1 and 1)"
   ]
  },
  {
   "cell_type": "code",
   "execution_count": 3,
   "id": "6edf52ff",
   "metadata": {},
   "outputs": [
    {
     "data": {
      "text/plain": [
       "True"
      ]
     },
     "execution_count": 3,
     "metadata": {},
     "output_type": "execute_result"
    }
   ],
   "source": [
    "(1 and not 0)or (1 and 0)"
   ]
  },
  {
   "cell_type": "code",
   "execution_count": 4,
   "id": "eadfc03e",
   "metadata": {},
   "outputs": [
    {
     "data": {
      "text/plain": [
       "False"
      ]
     },
     "execution_count": 4,
     "metadata": {},
     "output_type": "execute_result"
    }
   ],
   "source": [
    "1 + 3 > 2 +5"
   ]
  },
  {
   "cell_type": "code",
   "execution_count": 12,
   "id": "d87ce1d1",
   "metadata": {},
   "outputs": [
    {
     "name": "stdout",
     "output_type": "stream",
     "text": [
      "I love Python\n"
     ]
    }
   ],
   "source": [
    "print(\"I love Python\")"
   ]
  },
  {
   "cell_type": "code",
   "execution_count": 13,
   "id": "6496f1d6",
   "metadata": {},
   "outputs": [
    {
     "data": {
      "text/plain": [
       "CompletedProcess(args=['python', 'love_python.py'], returncode=0)"
      ]
     },
     "execution_count": 13,
     "metadata": {},
     "output_type": "execute_result"
    }
   ],
   "source": [
    "import subprocess\n",
    "\n",
    "with open('love_python.py', 'w') as f:\n",
    "    f.write('print(\"I love Python\")\\n')\n",
    "\n",
    "subprocess.run(['python', 'love_python.py'])"
   ]
  },
  {
   "cell_type": "code",
   "execution_count": 15,
   "id": "19623b75",
   "metadata": {},
   "outputs": [
    {
     "name": "stderr",
     "output_type": "stream",
     "text": [
      "python: can't open file 'c:\\\\Users\\\\damod\\\\OneDrive\\\\Desktop\\\\Machine-Learning\\\\3.5 Advance Statistics\\\\01. Eigen In ML\\\\1. Core Concepts\\\\lovepython.py': [Errno 2] No such file or directory\n"
     ]
    }
   ],
   "source": [
    "!python lovepython.py"
   ]
  },
  {
   "cell_type": "code",
   "execution_count": 16,
   "id": "cf00b792",
   "metadata": {},
   "outputs": [],
   "source": [
    "import antigravity"
   ]
  },
  {
   "cell_type": "code",
   "execution_count": 17,
   "id": "86855918",
   "metadata": {},
   "outputs": [],
   "source": [
    "def area_of_traingle(height, base):\n",
    "    return 0.5*base*height"
   ]
  },
  {
   "cell_type": "code",
   "execution_count": 18,
   "id": "f48fe96c",
   "metadata": {},
   "outputs": [
    {
     "data": {
      "text/plain": [
       "60.0"
      ]
     },
     "execution_count": 18,
     "metadata": {},
     "output_type": "execute_result"
    }
   ],
   "source": [
    "area_of_traingle(10,12)"
   ]
  },
  {
   "cell_type": "code",
   "execution_count": 27,
   "id": "077f95a2",
   "metadata": {},
   "outputs": [],
   "source": [
    "class Slope:\n",
    "    def __init__(self, x1: float, x2: float, y1: float, y2: float):\n",
    "        self.value = (y2 - y1) / (x2 - x1)\n",
    "\n",
    "class Distance(Slope):\n",
    "    def sqrt_of_slope(self):\n",
    "        return math.sqrt(self.value)"
   ]
  },
  {
   "cell_type": "code",
   "execution_count": 28,
   "id": "f990c989",
   "metadata": {},
   "outputs": [
    {
     "data": {
      "text/plain": [
       "1.0"
      ]
     },
     "execution_count": 28,
     "metadata": {},
     "output_type": "execute_result"
    }
   ],
   "source": [
    "sqrtslop = Distance(2,3,4,5)\n",
    "sqrtslop.sqrt_of_slope()"
   ]
  },
  {
   "cell_type": "code",
   "execution_count": 29,
   "id": "5d1bc99f",
   "metadata": {},
   "outputs": [
    {
     "data": {
      "text/plain": [
       "720"
      ]
     },
     "execution_count": 29,
     "metadata": {},
     "output_type": "execute_result"
    }
   ],
   "source": [
    "math.factorial(6)"
   ]
  },
  {
   "cell_type": "code",
   "execution_count": 32,
   "id": "4bde9805",
   "metadata": {},
   "outputs": [],
   "source": [
    "def leap_year(starting:int,ending:int):\n",
    "    count = 0\n",
    "    for i in range(starting,ending+1):\n",
    "        if ((i%4==0 and (i%100!=0) )or (i%400==0)):\n",
    "            count +=1\n",
    "    return count"
   ]
  },
  {
   "cell_type": "code",
   "execution_count": 33,
   "id": "f57dff1b",
   "metadata": {},
   "outputs": [
    {
     "data": {
      "text/plain": [
       "124"
      ]
     },
     "execution_count": 33,
     "metadata": {},
     "output_type": "execute_result"
    }
   ],
   "source": [
    "leap_year(1500,2010)"
   ]
  },
  {
   "cell_type": "code",
   "execution_count": 34,
   "id": "6c2d5a80",
   "metadata": {},
   "outputs": [
    {
     "data": {
      "text/plain": [
       "0.3181818181818182"
      ]
     },
     "execution_count": 34,
     "metadata": {},
     "output_type": "execute_result"
    }
   ],
   "source": [
    "1/(22/7)"
   ]
  },
  {
   "cell_type": "code",
   "execution_count": 39,
   "id": "601a9145",
   "metadata": {},
   "outputs": [
    {
     "ename": "KeyboardInterrupt",
     "evalue": "",
     "output_type": "error",
     "traceback": [
      "\u001b[1;31m---------------------------------------------------------------------------\u001b[0m",
      "\u001b[1;31mKeyboardInterrupt\u001b[0m                         Traceback (most recent call last)",
      "Cell \u001b[1;32mIn[39], line 3\u001b[0m\n\u001b[0;32m      1\u001b[0m \u001b[38;5;28msum\u001b[39m \u001b[38;5;241m=\u001b[39m \u001b[38;5;241m0\u001b[39m\n\u001b[0;32m      2\u001b[0m \u001b[38;5;28;01mfor\u001b[39;00m i \u001b[38;5;129;01min\u001b[39;00m \u001b[38;5;28mrange\u001b[39m(\u001b[38;5;241m0\u001b[39m,\u001b[38;5;241m1000000\u001b[39m):\n\u001b[1;32m----> 3\u001b[0m     \u001b[38;5;28msum\u001b[39m \u001b[38;5;241m+\u001b[39m\u001b[38;5;241m=\u001b[39m (math\u001b[38;5;241m.\u001b[39mfactorial(\u001b[38;5;241m4\u001b[39m\u001b[38;5;241m*\u001b[39mi) \u001b[38;5;241m*\u001b[39m (\u001b[38;5;241m1103\u001b[39m \u001b[38;5;241m+\u001b[39m \u001b[38;5;241m26390\u001b[39m\u001b[38;5;241m*\u001b[39mi)) \u001b[38;5;241m/\u001b[39m (math\u001b[38;5;241m.\u001b[39mfactorial(i)\u001b[38;5;241m*\u001b[39m\u001b[38;5;241m*\u001b[39m\u001b[38;5;241m4\u001b[39m \u001b[38;5;241m*\u001b[39m \u001b[38;5;241m396\u001b[39m\u001b[38;5;241m*\u001b[39m\u001b[38;5;241m*\u001b[39m(\u001b[38;5;241m4\u001b[39m\u001b[38;5;241m*\u001b[39mi))\n\u001b[0;32m      4\u001b[0m \u001b[38;5;28msum\u001b[39m \u001b[38;5;241m*\u001b[39m (\u001b[38;5;241m2\u001b[39m \u001b[38;5;241m*\u001b[39m math\u001b[38;5;241m.\u001b[39msqrt(\u001b[38;5;241m2\u001b[39m)) \u001b[38;5;241m/\u001b[39m \u001b[38;5;241m9801\u001b[39m\n",
      "\u001b[1;31mKeyboardInterrupt\u001b[0m: "
     ]
    }
   ],
   "source": [
    "sum = 0\n",
    "for i in range(0,100000):\n",
    "    sum += (math.factorial(4*i) * (1103 + 26390*i)) / (math.factorial(i)**4 * 396**(4*i))\n",
    "sum * (2 * math.sqrt(2)) / 9801"
   ]
  },
  {
   "cell_type": "code",
   "execution_count": 40,
   "id": "2b06d475",
   "metadata": {},
   "outputs": [
    {
     "data": {
      "text/plain": [
       "3.6268604078470186"
      ]
     },
     "execution_count": 40,
     "metadata": {},
     "output_type": "execute_result"
    }
   ],
   "source": [
    "math.sinh(2)"
   ]
  },
  {
   "cell_type": "code",
   "execution_count": 41,
   "id": "75660fb9",
   "metadata": {},
   "outputs": [
    {
     "data": {
      "text/plain": [
       "3.626860407847019"
      ]
     },
     "execution_count": 41,
     "metadata": {},
     "output_type": "execute_result"
    }
   ],
   "source": [
    "(math.exp(2)- math.exp(-2))/2"
   ]
  },
  {
   "cell_type": "code",
   "execution_count": 43,
   "id": "b1c6ce75",
   "metadata": {},
   "outputs": [
    {
     "data": {
      "text/plain": [
       "0.9986295347545738"
      ]
     },
     "execution_count": 43,
     "metadata": {},
     "output_type": "execute_result"
    }
   ],
   "source": [
    "import math\n",
    "# Compute sin(87°)\n",
    "result = math.sin(math.radians(87))\n",
    "result"
   ]
  },
  {
   "cell_type": "code",
   "execution_count": 44,
   "id": "60676665",
   "metadata": {},
   "outputs": [
    {
     "data": {
      "text/plain": [
       "1.0"
      ]
     },
     "execution_count": 44,
     "metadata": {},
     "output_type": "execute_result"
    }
   ],
   "source": [
    "math.sin(math.radians(90))**2"
   ]
  },
  {
   "cell_type": "code",
   "execution_count": 46,
   "id": "8e72a419",
   "metadata": {},
   "outputs": [
    {
     "ename": "AttributeError",
     "evalue": "module 'math' has no attribute 'sni'",
     "output_type": "error",
     "traceback": [
      "\u001b[1;31m---------------------------------------------------------------------------\u001b[0m",
      "\u001b[1;31mAttributeError\u001b[0m                            Traceback (most recent call last)",
      "Cell \u001b[1;32mIn[46], line 1\u001b[0m\n\u001b[1;32m----> 1\u001b[0m math\u001b[38;5;241m.\u001b[39msni\n",
      "\u001b[1;31mAttributeError\u001b[0m: module 'math' has no attribute 'sni'"
     ]
    }
   ],
   "source": [
    "math.sni"
   ]
  },
  {
   "cell_type": "code",
   "execution_count": 47,
   "id": "951eb63e",
   "metadata": {},
   "outputs": [
    {
     "ename": "TypeError",
     "evalue": "math.sin() takes exactly one argument (0 given)",
     "output_type": "error",
     "traceback": [
      "\u001b[1;31m---------------------------------------------------------------------------\u001b[0m",
      "\u001b[1;31mTypeError\u001b[0m                                 Traceback (most recent call last)",
      "Cell \u001b[1;32mIn[47], line 1\u001b[0m\n\u001b[1;32m----> 1\u001b[0m math\u001b[38;5;241m.\u001b[39msin()\n",
      "\u001b[1;31mTypeError\u001b[0m: math.sin() takes exactly one argument (0 given)"
     ]
    }
   ],
   "source": [
    "math.sin()"
   ]
  },
  {
   "cell_type": "code",
   "execution_count": 48,
   "id": "4d6b4a59",
   "metadata": {},
   "outputs": [
    {
     "data": {
      "text/plain": [
       "3.141592653589793"
      ]
     },
     "execution_count": 48,
     "metadata": {},
     "output_type": "execute_result"
    }
   ],
   "source": [
    "math.pi"
   ]
  },
  {
   "cell_type": "code",
   "execution_count": 49,
   "id": "aaf75c43",
   "metadata": {},
   "outputs": [
    {
     "name": "stdout",
     "output_type": "stream",
     "text": [
      "Distance\t Slope\t antigravity\t area_of_traingle\t distance\t f\t i\t leap_year\t lovepython\t \n",
      "math\t result\t slope\t sqrtslop\t subprocess\t sum\t \n"
     ]
    }
   ],
   "source": [
    "%who"
   ]
  },
  {
   "cell_type": "code",
   "execution_count": 54,
   "id": "c7177f7d",
   "metadata": {},
   "outputs": [
    {
     "data": {
      "text/plain": [
       "\"don't\""
      ]
     },
     "execution_count": 54,
     "metadata": {},
     "output_type": "execute_result"
    }
   ],
   "source": [
    "\"don\\'t\""
   ]
  },
  {
   "cell_type": "code",
   "execution_count": 56,
   "id": "ead62fee",
   "metadata": {},
   "outputs": [
    {
     "name": "stdout",
     "output_type": "stream",
     "text": [
      "damodar is a great school in no\n"
     ]
    }
   ],
   "source": [
    "name = 'damodar'\n",
    "country = 'no'\n",
    "print(f\"{name} is a great school in {country}\")"
   ]
  },
  {
   "cell_type": "code",
   "execution_count": 61,
   "id": "53dbdbb4",
   "metadata": {},
   "outputs": [
    {
     "data": {
      "text/plain": [
       "3"
      ]
     },
     "execution_count": 61,
     "metadata": {},
     "output_type": "execute_result"
    }
   ],
   "source": [
    "# a list of (fruit, number) pairs\n",
    "[['apple', 3], ('banana', 4) , ('orange', 1), ('pear', 4)][0][1]"
   ]
  },
  {
   "cell_type": "code",
   "execution_count": 64,
   "id": "1b348d0d",
   "metadata": {},
   "outputs": [
    {
     "name": "stdout",
     "output_type": "stream",
     "text": [
      "[[-0.23197069 -0.78583024  0.40824829]\n",
      " [-0.52532209 -0.08675134 -0.81649658]\n",
      " [-0.8186735   0.61232756  0.40824829]]\n"
     ]
    }
   ],
   "source": [
    "#eigendecomposition\n",
    "from numpy import array\n",
    "from numpy.linalg import eig\n",
    "#matrix\n",
    "A = array([[1, 2, 3], [4, 5, 6], [7, 8, 9]])\n",
    "#eigendecomposition\n",
    "values, vectors = eig(A)\n",
    "\n",
    "\n",
    "print(vectors)\n",
    "\n"
   ]
  },
  {
   "cell_type": "code",
   "execution_count": null,
   "id": "b0e635f2",
   "metadata": {},
   "outputs": [],
   "source": []
  },
  {
   "cell_type": "code",
   "execution_count": null,
   "id": "7631bd5f",
   "metadata": {},
   "outputs": [],
   "source": []
  },
  {
   "cell_type": "code",
   "execution_count": null,
   "id": "38b6ccb5",
   "metadata": {},
   "outputs": [],
   "source": []
  },
  {
   "cell_type": "code",
   "execution_count": null,
   "id": "c663ae8c",
   "metadata": {},
   "outputs": [],
   "source": []
  },
  {
   "cell_type": "code",
   "execution_count": null,
   "id": "a765fcd3",
   "metadata": {},
   "outputs": [],
   "source": []
  },
  {
   "cell_type": "code",
   "execution_count": null,
   "id": "e7e83a7a",
   "metadata": {},
   "outputs": [],
   "source": []
  }
 ],
 "metadata": {
  "kernelspec": {
   "display_name": "base",
   "language": "python",
   "name": "python3"
  },
  "language_info": {
   "codemirror_mode": {
    "name": "ipython",
    "version": 3
   },
   "file_extension": ".py",
   "mimetype": "text/x-python",
   "name": "python",
   "nbconvert_exporter": "python",
   "pygments_lexer": "ipython3",
   "version": "3.12.7"
  }
 },
 "nbformat": 4,
 "nbformat_minor": 5
}
