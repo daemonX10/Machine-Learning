{
 "cells": [
  {
   "cell_type": "code",
   "execution_count": 2,
   "id": "28346d8e",
   "metadata": {},
   "outputs": [],
   "source": [
    "x  = int(2)\n",
    "y = int(3)"
   ]
  },
  {
   "cell_type": "code",
   "execution_count": 3,
   "id": "29c8ab25",
   "metadata": {},
   "outputs": [],
   "source": [
    "del x\n",
    "y = None"
   ]
  },
  {
   "cell_type": "code",
   "execution_count": 4,
   "id": "60e3ba96",
   "metadata": {},
   "outputs": [
    {
     "ename": "NameError",
     "evalue": "name 'x' is not defined",
     "output_type": "error",
     "traceback": [
      "\u001b[1;31m---------------------------------------------------------------------------\u001b[0m",
      "\u001b[1;31mNameError\u001b[0m                                 Traceback (most recent call last)",
      "Cell \u001b[1;32mIn[4], line 1\u001b[0m\n\u001b[1;32m----> 1\u001b[0m x\n",
      "\u001b[1;31mNameError\u001b[0m: name 'x' is not defined"
     ]
    }
   ],
   "source": [
    "x"
   ]
  },
  {
   "cell_type": "code",
   "execution_count": 5,
   "id": "8bda3f39",
   "metadata": {},
   "outputs": [],
   "source": [
    "x = int(2)\n",
    "y = int(3)\n"
   ]
  },
  {
   "cell_type": "code",
   "execution_count": 7,
   "id": "66fa9c22",
   "metadata": {},
   "outputs": [],
   "source": [
    "u: int = x+y\n",
    "v : int = x*y"
   ]
  },
  {
   "cell_type": "code",
   "execution_count": 8,
   "id": "52bd545a",
   "metadata": {},
   "outputs": [
    {
     "data": {
      "text/plain": [
       "(5, 6)"
      ]
     },
     "execution_count": 8,
     "metadata": {},
     "output_type": "execute_result"
    }
   ],
   "source": [
    "u,v"
   ]
  },
  {
   "cell_type": "code",
   "execution_count": 9,
   "id": "a8c27f00",
   "metadata": {},
   "outputs": [],
   "source": [
    "import math"
   ]
  },
  {
   "cell_type": "code",
   "execution_count": 10,
   "id": "78b37e21",
   "metadata": {},
   "outputs": [
    {
     "data": {
      "text/plain": [
       "(0.9092974268256817, -7.919939972803563)"
      ]
     },
     "execution_count": 10,
     "metadata": {},
     "output_type": "execute_result"
    }
   ],
   "source": [
    "z:float = math.sin(x)\n",
    "r : float = 8*math.cos(y)\n",
    "z,r"
   ]
  },
  {
   "cell_type": "code",
   "execution_count": 11,
   "id": "bcf18781",
   "metadata": {},
   "outputs": [],
   "source": [
    "from math import sin, cos"
   ]
  },
  {
   "cell_type": "code",
   "execution_count": 13,
   "id": "84c21118",
   "metadata": {},
   "outputs": [
    {
     "name": "stdout",
     "output_type": "stream",
     "text": [
      "s-> -1.3970774909946293 p-> 8\n"
     ]
    }
   ],
   "source": [
    "s :float = 5*sin(x*y)\n",
    "p : float = x**y\n",
    "print(\"s->\",s, \"p->\", p)"
   ]
  },
  {
   "cell_type": "code",
   "execution_count": 14,
   "id": "4e0eb4b2",
   "metadata": {},
   "outputs": [
    {
     "name": "stdout",
     "output_type": "stream",
     "text": [
      "S-> 123 N-> 123.0\n",
      "<class 'str'> <class 'float'>\n"
     ]
    }
   ],
   "source": [
    "S : str = \"123\"\n",
    "N : float = float(S)\n",
    "print(\"S->\", S, \"N->\", N)\n",
    "print(type(S), type(N))"
   ]
  },
  {
   "cell_type": "code",
   "execution_count": 15,
   "id": "38562086",
   "metadata": {},
   "outputs": [
    {
     "name": "stdout",
     "output_type": "stream",
     "text": [
      "False\n"
     ]
    }
   ],
   "source": [
    "s1 : str = \"HELLO\"\n",
    "s2 : str = \"hello\"\n",
    "print(s1 == s2)"
   ]
  },
  {
   "cell_type": "code",
   "execution_count": 16,
   "id": "820d633e",
   "metadata": {},
   "outputs": [
    {
     "name": "stdout",
     "output_type": "stream",
     "text": [
      "True\n",
      "True\n"
     ]
    }
   ],
   "source": [
    "print(s1.lower() == s2)\n",
    "print(s1 == s2.upper())"
   ]
  },
  {
   "cell_type": "code",
   "execution_count": 17,
   "id": "a7a9742b",
   "metadata": {},
   "outputs": [
    {
     "data": {
      "text/plain": [
       "True"
      ]
     },
     "execution_count": 17,
     "metadata": {},
     "output_type": "execute_result"
    }
   ],
   "source": [
    "\"python\" in \"python is great\""
   ]
  },
  {
   "cell_type": "code",
   "execution_count": 18,
   "id": "fcc2e2c2",
   "metadata": {},
   "outputs": [
    {
     "name": "stdout",
     "output_type": "stream",
     "text": [
      "great\n"
     ]
    }
   ],
   "source": [
    "str1 = \"python is great\"\n",
    "print(str1.split()[-1])"
   ]
  },
  {
   "cell_type": "code",
   "execution_count": 19,
   "id": "f549a28d",
   "metadata": {},
   "outputs": [
    {
     "name": "stdout",
     "output_type": "stream",
     "text": [
      "11\n"
     ]
    }
   ],
   "source": [
    "print(len(\"engineering\"))"
   ]
  },
  {
   "cell_type": "code",
   "execution_count": 25,
   "id": "977bf95f",
   "metadata": {},
   "outputs": [],
   "source": [
    "list1 :list = [1, 2, 20, 4, 5]\n",
    "list1.insert(0,2)"
   ]
  },
  {
   "cell_type": "code",
   "execution_count": 26,
   "id": "3643da39",
   "metadata": {},
   "outputs": [
    {
     "data": {
      "text/plain": [
       "[2, 1, 2, 20, 4, 5]"
      ]
     },
     "execution_count": 26,
     "metadata": {},
     "output_type": "execute_result"
    }
   ],
   "source": [
    "list1"
   ]
  },
  {
   "cell_type": "code",
   "execution_count": 27,
   "id": "19439ea5",
   "metadata": {},
   "outputs": [],
   "source": [
    "list1.append(8)"
   ]
  },
  {
   "cell_type": "code",
   "execution_count": 31,
   "id": "25e09eca",
   "metadata": {},
   "outputs": [
    {
     "data": {
      "text/plain": [
       "False"
      ]
     },
     "execution_count": 31,
     "metadata": {},
     "output_type": "execute_result"
    }
   ],
   "source": [
    "type(list1) == object"
   ]
  },
  {
   "cell_type": "code",
   "execution_count": 28,
   "id": "e03065c8",
   "metadata": {},
   "outputs": [
    {
     "data": {
      "text/plain": [
       "[2, 1, 2, 20, 4, 5, 8]"
      ]
     },
     "execution_count": 28,
     "metadata": {},
     "output_type": "execute_result"
    }
   ],
   "source": [
    "list1"
   ]
  },
  {
   "cell_type": "code",
   "execution_count": 29,
   "id": "10e16a56",
   "metadata": {},
   "outputs": [
    {
     "data": {
      "text/plain": [
       "[1, 2, 2, 4, 5, 8, 20]"
      ]
     },
     "execution_count": 29,
     "metadata": {},
     "output_type": "execute_result"
    }
   ],
   "source": [
    "sorted(list1)"
   ]
  },
  {
   "cell_type": "code",
   "execution_count": 34,
   "id": "98fda413",
   "metadata": {},
   "outputs": [],
   "source": [
    "python_str : str = \"python is great\"\n",
    "python_list : list= python_str.split()"
   ]
  },
  {
   "cell_type": "code",
   "execution_count": 35,
   "id": "026f2052",
   "metadata": {},
   "outputs": [
    {
     "data": {
      "text/plain": [
       "['python', 'is', 'great']"
      ]
     },
     "execution_count": 35,
     "metadata": {},
     "output_type": "execute_result"
    }
   ],
   "source": [
    "python_list"
   ]
  },
  {
   "cell_type": "code",
   "execution_count": 37,
   "id": "2834da84",
   "metadata": {},
   "outputs": [],
   "source": [
    "set1 = set([2,3,2,3,1,2,5])"
   ]
  },
  {
   "cell_type": "code",
   "execution_count": 38,
   "id": "94cdfaa7",
   "metadata": {},
   "outputs": [
    {
     "data": {
      "text/plain": [
       "{1, 2, 3, 5}"
      ]
     },
     "execution_count": 38,
     "metadata": {},
     "output_type": "execute_result"
    }
   ],
   "source": [
    "set1"
   ]
  },
  {
   "cell_type": "code",
   "execution_count": 51,
   "id": "343f5073",
   "metadata": {},
   "outputs": [],
   "source": [
    "set_a =(2,3,2)\n",
    "set_b = (1,2,3,4)"
   ]
  },
  {
   "cell_type": "code",
   "execution_count": 52,
   "id": "f1e3a326",
   "metadata": {},
   "outputs": [],
   "source": [
    "# set_a and set_b union\n",
    "set_union = set(set_a).union(set_b)"
   ]
  },
  {
   "cell_type": "code",
   "execution_count": 53,
   "id": "d2e02d6c",
   "metadata": {},
   "outputs": [
    {
     "data": {
      "text/plain": [
       "{1, 2, 3, 4}"
      ]
     },
     "execution_count": 53,
     "metadata": {},
     "output_type": "execute_result"
    }
   ],
   "source": [
    "set_union"
   ]
  },
  {
   "cell_type": "code",
   "execution_count": 54,
   "id": "79384a28",
   "metadata": {},
   "outputs": [],
   "source": [
    "set_intersection = set(set_a).intersection(set_b)"
   ]
  },
  {
   "cell_type": "code",
   "execution_count": 55,
   "id": "031170ae",
   "metadata": {},
   "outputs": [
    {
     "data": {
      "text/plain": [
       "{2, 3}"
      ]
     },
     "execution_count": 55,
     "metadata": {},
     "output_type": "execute_result"
    }
   ],
   "source": [
    "set_intersection"
   ]
  },
  {
   "cell_type": "code",
   "execution_count": 58,
   "id": "d2939198",
   "metadata": {},
   "outputs": [],
   "source": [
    "# difference of set_a to set_b using difference method\n",
    "set_difference = set(set_b).difference(set_a)"
   ]
  },
  {
   "cell_type": "code",
   "execution_count": 59,
   "id": "fc4901be",
   "metadata": {},
   "outputs": [
    {
     "data": {
      "text/plain": [
       "{1, 4}"
      ]
     },
     "execution_count": 59,
     "metadata": {},
     "output_type": "execute_result"
    }
   ],
   "source": [
    "set_difference"
   ]
  },
  {
   "cell_type": "code",
   "execution_count": 60,
   "id": "53567ce3",
   "metadata": {},
   "outputs": [],
   "source": [
    "dict1 : dict = {\n",
    "    \"A\": 'a',\n",
    "    \"B\": 'b',\n",
    "    \"C\": 'c',\n",
    "}"
   ]
  },
  {
   "cell_type": "code",
   "execution_count": 61,
   "id": "6e0629f2",
   "metadata": {},
   "outputs": [
    {
     "name": "stdout",
     "output_type": "stream",
     "text": [
      "{'A': 'a', 'B': 'b', 'C': 'c'}\n"
     ]
    }
   ],
   "source": [
    "print(dict1)"
   ]
  },
  {
   "cell_type": "code",
   "execution_count": 62,
   "id": "f80c8fff",
   "metadata": {},
   "outputs": [],
   "source": [
    "x: list[int] = [1, 4, 3, 2, 9, 4] \n",
    "y: list[int] = [2, 3, 4, 1, 2, 3]    "
   ]
  },
  {
   "cell_type": "code",
   "execution_count": null,
   "id": "23b52cc9",
   "metadata": {},
   "outputs": [],
   "source": [
    "import numpy as np\n",
    "arr = np.random.randint(-10,10,size=(100))"
   ]
  },
  {
   "cell_type": "code",
   "execution_count": 68,
   "id": "edf1aac7",
   "metadata": {},
   "outputs": [
    {
     "name": "stdout",
     "output_type": "stream",
     "text": [
      "[-10.          -9.7979798   -9.5959596   -9.39393939  -9.19191919\n",
      "  -8.98989899  -8.78787879  -8.58585859  -8.38383838  -8.18181818\n",
      "  -7.97979798  -7.77777778  -7.57575758  -7.37373737  -7.17171717\n",
      "  -6.96969697  -6.76767677  -6.56565657  -6.36363636  -6.16161616\n",
      "  -5.95959596  -5.75757576  -5.55555556  -5.35353535  -5.15151515\n",
      "  -4.94949495  -4.74747475  -4.54545455  -4.34343434  -4.14141414\n",
      "  -3.93939394  -3.73737374  -3.53535354  -3.33333333  -3.13131313\n",
      "  -2.92929293  -2.72727273  -2.52525253  -2.32323232  -2.12121212\n",
      "  -1.91919192  -1.71717172  -1.51515152  -1.31313131  -1.11111111\n",
      "  -0.90909091  -0.70707071  -0.50505051  -0.3030303   -0.1010101\n",
      "   0.1010101    0.3030303    0.50505051   0.70707071   0.90909091\n",
      "   1.11111111   1.31313131   1.51515152   1.71717172   1.91919192\n",
      "   2.12121212   2.32323232   2.52525253   2.72727273   2.92929293\n",
      "   3.13131313   3.33333333   3.53535354   3.73737374   3.93939394\n",
      "   4.14141414   4.34343434   4.54545455   4.74747475   4.94949495\n",
      "   5.15151515   5.35353535   5.55555556   5.75757576   5.95959596\n",
      "   6.16161616   6.36363636   6.56565657   6.76767677   6.96969697\n",
      "   7.17171717   7.37373737   7.57575758   7.77777778   7.97979798\n",
      "   8.18181818   8.38383838   8.58585859   8.78787879   8.98989899\n",
      "   9.19191919   9.39393939   9.5959596    9.7979798   10.        ]\n"
     ]
    }
   ],
   "source": [
    "from typing import Any\n",
    "\n",
    "from numpy._typing import NDArray\n",
    "\n",
    "arr_linespace: NDArray[float] = np.linspace(-10, 10, 100)\n",
    "print(arr_linespace)"
   ]
  },
  {
   "cell_type": "markdown",
   "id": "8be7558e",
   "metadata": {},
   "source": [
    "Let array_a be an array [-1, 0, 1, 2, 0, 3]. Write a command that will return an array consisting of all the elements of array_a that are larger than zero. Hint: Use logical expression as the index of the array.\n",
    "\n",
    "Create an array y=[[[3,5,3],[2,2,5],[3,8,9]]]\n",
    " and calculate the transpose of the array.\n",
    "\n",
    "Create a zero array with size (2, 4).\n",
    "\n",
    "Change the 2nd column in the above array to 1.\n",
    "\n",
    "Write a cell magic to clear all the variables in the Jupyter notebook"
   ]
  },
  {
   "cell_type": "code",
   "execution_count": null,
   "id": "856ba5f8",
   "metadata": {},
   "outputs": [],
   "source": []
  }
 ],
 "metadata": {
  "kernelspec": {
   "display_name": "base",
   "language": "python",
   "name": "python3"
  },
  "language_info": {
   "codemirror_mode": {
    "name": "ipython",
    "version": 3
   },
   "file_extension": ".py",
   "mimetype": "text/x-python",
   "name": "python",
   "nbconvert_exporter": "python",
   "pygments_lexer": "ipython3",
   "version": "3.12.7"
  }
 },
 "nbformat": 4,
 "nbformat_minor": 5
}
